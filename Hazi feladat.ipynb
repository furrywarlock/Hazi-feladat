{
    "metadata": {
        "kernelspec": {
            "name": "SQL",
            "display_name": "SQL",
            "language": "sql"
        },
        "language_info": {
            "name": "sql",
            "version": ""
        }
    },
    "nbformat_minor": 2,
    "nbformat": 4,
    "cells": [
        {
            "cell_type": "markdown",
            "source": [
                "- Válassz ki egy olyan adatbázist a bit.uni-corvinus.hu-n, amelynek tartalmához hozzáférsz\n",
                "- Az adatbázison belül válassz ki egy táblát!\n",
                "- Valósíts meg tipikus adatprofilozási lekérdezéseket a tábla legalább 2 oszlopára (min. 3 db / oszlop)!\n",
                "- Pl: NULL értékek száma, százalékos aránya, legkisebb/legnagyobb érték, kiugró értékek, min/max/átlag, értékek eloszlása stb.\n",
                "- A kapott eredményekhez diagramokat is készíthetsz\n",
                "- Az megoldást ide töltsd fel csatolva, vagy GitHub-ra a repo link megadásával (utóbbi esetben +5%)\n",
                "- A feladatot egyénileg kell megoldani"
            ],
            "metadata": {
                "azdata_cell_guid": "3ee8202a-9f8e-4ef2-ac69-8315b341a53a"
            },
            "attachments": {}
        },
        {
            "cell_type": "code",
            "source": [
                ""
            ],
            "metadata": {
                "azdata_cell_guid": "db8a55ae-2fe1-4144-8d00-69e288dc792b",
                "language": "sql"
            },
            "outputs": [
                {
                    "output_type": "display_data",
                    "data": {
                        "text/html": "Commands completed successfully."
                    },
                    "metadata": {}
                },
                {
                    "output_type": "display_data",
                    "data": {
                        "text/html": "Total execution time: 00:00:00"
                    },
                    "metadata": {}
                }
            ],
            "execution_count": 1
        },
        {
            "cell_type": "code",
            "source": [
                "SELECT MIN(street) AS 'ABC elso', \r\n",
                "       MAX(street) AS 'ABC utolso',\r\n",
                "       AVG(LEN(street)) AS 'atlagos hosszusag',\r\n",
                "       Min(LEN(street)) AS 'legrovidebb cim',\r\n",
                "       MAX(LEN(street)) AS 'leghosszabb cim'\r\n",
                "FROM customers\r\n",
                "WHERE street IS NOT NULL\r\n",
                "AND LEN(street) > 0\r\n",
                "\r\n",
                ""
            ],
            "metadata": {
                "azdata_cell_guid": "b4c119fb-3ce8-49ca-8d31-f651bebbe213",
                "language": "sql"
            },
            "outputs": [
                {
                    "output_type": "display_data",
                    "data": {
                        "text/html": "(1 row affected)"
                    },
                    "metadata": {}
                },
                {
                    "output_type": "display_data",
                    "data": {
                        "text/html": "Total execution time: 00:00:00.042"
                    },
                    "metadata": {}
                },
                {
                    "output_type": "execute_result",
                    "execution_count": 23,
                    "data": {
                        "application/vnd.dataresource+json": {
                            "schema": {
                                "fields": [
                                    {
                                        "name": "ABC elso"
                                    },
                                    {
                                        "name": "ABC utolso"
                                    },
                                    {
                                        "name": "atlagos hosszusag"
                                    },
                                    {
                                        "name": "legrovidebb cim"
                                    },
                                    {
                                        "name": "leghosszabb cim"
                                    }
                                ]
                            },
                            "data": [
                                {
                                    "ABC elso": "1 Arrowhead Street ",
                                    "ABC utolso": "9B Kingston Lane ",
                                    "atlagos hosszusag": "17",
                                    "legrovidebb cim": "9",
                                    "leghosszabb cim": "29"
                                }
                            ]
                        },
                        "text/html": "<table><tr><th>ABC elso</th><th>ABC utolso</th><th>atlagos hosszusag</th><th>legrovidebb cim</th><th>leghosszabb cim</th></tr><tr><td>1 Arrowhead Street </td><td>9B Kingston Lane </td><td>17</td><td>9</td><td>29</td></tr></table>"
                    },
                    "metadata": {
                        "azdata_chartOptions": {
                            "type": "table",
                            "dataDirection": "horizontal",
                            "columnsAsLabels": true,
                            "labelFirstColumn": false,
                            "legendPosition": "top"
                        }
                    }
                }
            ],
            "execution_count": 23
        },
        {
            "cell_type": "code",
            "source": [
                "SELECT kitöltöttség,\r\n",
                "    COUNT(*) sorok_szama\r\n",
                "FROM \r\n",
                "    (SELECT \r\n",
                "        CASE WHEN phone IS NULL THEN 'Nincs adat'\r\n",
                "            ELSE 'kitöltve' \r\n",
                "            END AS kitöltöttség\r\n",
                "        FROM customers) rows\r\n",
                "GROUP BY kitöltöttség\r\n",
                ""
            ],
            "metadata": {
                "azdata_cell_guid": "61b6f586-5e89-45c8-966d-c8c4db6a06b9",
                "language": "sql"
            },
            "outputs": [
                {
                    "output_type": "display_data",
                    "data": {
                        "text/html": "(2 rows affected)"
                    },
                    "metadata": {}
                },
                {
                    "output_type": "display_data",
                    "data": {
                        "text/html": "Total execution time: 00:00:00.037"
                    },
                    "metadata": {}
                },
                {
                    "output_type": "execute_result",
                    "execution_count": 29,
                    "data": {
                        "application/vnd.dataresource+json": {
                            "schema": {
                                "fields": [
                                    {
                                        "name": "kitöltöttség"
                                    },
                                    {
                                        "name": "sorok_szama"
                                    }
                                ]
                            },
                            "data": [
                                {
                                    "kitöltöttség": "kitöltve",
                                    "sorok_szama": "178"
                                },
                                {
                                    "kitöltöttség": "Nincs adat",
                                    "sorok_szama": "1267"
                                }
                            ]
                        },
                        "text/html": "<table><tr><th>kitöltöttség</th><th>sorok_szama</th></tr><tr><td>kitöltve</td><td>178</td></tr><tr><td>Nincs adat</td><td>1267</td></tr></table>"
                    },
                    "metadata": {
                        "azdata_chartOptions": {
                            "type": "pie",
                            "dataDirection": "vertical",
                            "columnsAsLabels": true,
                            "labelFirstColumn": false,
                            "legendPosition": "top"
                        }
                    }
                }
            ],
            "execution_count": 29
        },
        {
            "cell_type": "code",
            "source": [
                "SELECT COUNT(Distinct phone) AS egyedi_telefonsz\r\n",
                "From customers\r\n",
                "WHERE phone IS NOT NULL"
            ],
            "metadata": {
                "language": "sql",
                "azdata_cell_guid": "a5951bc9-501a-4024-8f2d-0e5408130f44"
            },
            "outputs": [
                {
                    "output_type": "display_data",
                    "data": {
                        "text/html": "(1 row affected)"
                    },
                    "metadata": {}
                },
                {
                    "output_type": "display_data",
                    "data": {
                        "text/html": "Total execution time: 00:00:00.036"
                    },
                    "metadata": {}
                },
                {
                    "output_type": "execute_result",
                    "execution_count": 31,
                    "data": {
                        "application/vnd.dataresource+json": {
                            "schema": {
                                "fields": [
                                    {
                                        "name": "egyedi_telefonsz"
                                    }
                                ]
                            },
                            "data": [
                                {
                                    "egyedi_telefonsz": "178"
                                }
                            ]
                        },
                        "text/html": "<table><tr><th>egyedi_telefonsz</th></tr><tr><td>178</td></tr></table>"
                    },
                    "metadata": {}
                }
            ],
            "execution_count": 31
        },
        {
            "cell_type": "code",
            "source": [
                "SELECT LEFT(Phone, 5) AS Area_code,\r\n",
                "COUNT(LEFT(Phone, 5)) AS Number_of_customers\r\n",
                "From customers\r\n",
                "WHERE phone IS NOT NULL\r\n",
                "GROUP BY LEFT(Phone, 5)"
            ],
            "metadata": {
                "language": "sql",
                "azdata_cell_guid": "46829caa-84ad-48d3-a74f-1961b48345ed"
            },
            "outputs": [
                {
                    "output_type": "display_data",
                    "data": {
                        "text/html": "(26 rows affected)"
                    },
                    "metadata": {}
                },
                {
                    "output_type": "display_data",
                    "data": {
                        "text/html": "Total execution time: 00:00:00.039"
                    },
                    "metadata": {}
                },
                {
                    "output_type": "execute_result",
                    "execution_count": 38,
                    "data": {
                        "application/vnd.dataresource+json": {
                            "schema": {
                                "fields": [
                                    {
                                        "name": "Area_code"
                                    },
                                    {
                                        "name": "Number_of_customers"
                                    }
                                ]
                            },
                            "data": [
                                {
                                    "Area_code": "(210)",
                                    "Number_of_customers": "2"
                                },
                                {
                                    "Area_code": "(212)",
                                    "Number_of_customers": "7"
                                },
                                {
                                    "Area_code": "(229)",
                                    "Number_of_customers": "3"
                                },
                                {
                                    "Area_code": "(248)",
                                    "Number_of_customers": "10"
                                },
                                {
                                    "Area_code": "(281)",
                                    "Number_of_customers": "9"
                                },
                                {
                                    "Area_code": "(361)",
                                    "Number_of_customers": "8"
                                },
                                {
                                    "Area_code": "(408)",
                                    "Number_of_customers": "7"
                                },
                                {
                                    "Area_code": "(424)",
                                    "Number_of_customers": "3"
                                },
                                {
                                    "Area_code": "(442)",
                                    "Number_of_customers": "4"
                                },
                                {
                                    "Area_code": "(507)",
                                    "Number_of_customers": "9"
                                },
                                {
                                    "Area_code": "(510)",
                                    "Number_of_customers": "8"
                                },
                                {
                                    "Area_code": "(516)",
                                    "Number_of_customers": "6"
                                },
                                {
                                    "Area_code": "(559)",
                                    "Number_of_customers": "5"
                                },
                                {
                                    "Area_code": "(562)",
                                    "Number_of_customers": "10"
                                },
                                {
                                    "Area_code": "(619)",
                                    "Number_of_customers": "6"
                                },
                                {
                                    "Area_code": "(631)",
                                    "Number_of_customers": "9"
                                },
                                {
                                    "Area_code": "(657)",
                                    "Number_of_customers": "11"
                                },
                                {
                                    "Area_code": "(661)",
                                    "Number_of_customers": "5"
                                },
                                {
                                    "Area_code": "(682)",
                                    "Number_of_customers": "5"
                                },
                                {
                                    "Area_code": "(716)",
                                    "Number_of_customers": "9"
                                },
                                {
                                    "Area_code": "(717)",
                                    "Number_of_customers": "9"
                                },
                                {
                                    "Area_code": "(805)",
                                    "Number_of_customers": "10"
                                },
                                {
                                    "Area_code": "(845)",
                                    "Number_of_customers": "5"
                                },
                                {
                                    "Area_code": "(914)",
                                    "Number_of_customers": "6"
                                },
                                {
                                    "Area_code": "(915)",
                                    "Number_of_customers": "6"
                                },
                                {
                                    "Area_code": "(916)",
                                    "Number_of_customers": "6"
                                }
                            ]
                        },
                        "text/html": "<table><tr><th>Area_code</th><th>Number_of_customers</th></tr><tr><td>(210)</td><td>2</td></tr><tr><td>(212)</td><td>7</td></tr><tr><td>(229)</td><td>3</td></tr><tr><td>(248)</td><td>10</td></tr><tr><td>(281)</td><td>9</td></tr><tr><td>(361)</td><td>8</td></tr><tr><td>(408)</td><td>7</td></tr><tr><td>(424)</td><td>3</td></tr><tr><td>(442)</td><td>4</td></tr><tr><td>(507)</td><td>9</td></tr><tr><td>(510)</td><td>8</td></tr><tr><td>(516)</td><td>6</td></tr><tr><td>(559)</td><td>5</td></tr><tr><td>(562)</td><td>10</td></tr><tr><td>(619)</td><td>6</td></tr><tr><td>(631)</td><td>9</td></tr><tr><td>(657)</td><td>11</td></tr><tr><td>(661)</td><td>5</td></tr><tr><td>(682)</td><td>5</td></tr><tr><td>(716)</td><td>9</td></tr><tr><td>(717)</td><td>9</td></tr><tr><td>(805)</td><td>10</td></tr><tr><td>(845)</td><td>5</td></tr><tr><td>(914)</td><td>6</td></tr><tr><td>(915)</td><td>6</td></tr><tr><td>(916)</td><td>6</td></tr></table>"
                    },
                    "metadata": {
                        "azdata_chartOptions": {
                            "type": "bar",
                            "dataDirection": "vertical",
                            "columnsAsLabels": true,
                            "labelFirstColumn": false,
                            "legendPosition": "top"
                        }
                    }
                }
            ],
            "execution_count": 38
        }
    ]
}